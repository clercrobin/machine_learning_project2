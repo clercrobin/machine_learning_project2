{
 "cells": [
  {
   "cell_type": "code",
   "execution_count": 2,
   "metadata": {},
   "outputs": [
    {
     "name": "stderr",
     "output_type": "stream",
     "text": [
      "Using TensorFlow backend.\n",
      "2017-12-11 02:36:07,066 : INFO : 'pattern' package not found; tag filters are not available for English\n"
     ]
    }
   ],
   "source": [
    "# Import functions from modules\n",
    "%reload_ext autoreload\n",
    "%autoreload 2\n",
    "from pretreatment_methods import *\n",
    "from w2v_feats_adding import *"
   ]
  },
  {
   "cell_type": "code",
   "execution_count": null,
   "metadata": {},
   "outputs": [],
   "source": []
  },
  {
   "cell_type": "code",
   "execution_count": 3,
   "metadata": {},
   "outputs": [],
   "source": [
    "pre_local=\"/home/jlevyabi/seacabo/fempl_big_sim/sent_class/twitter-datasets/\"\n",
    "pre_remote=\"/datastore/complexnet/jlevyabi/network_representation/data_files/w2v_files/word2vec_twitter_model/\"\n",
    "train_data=TwitterSentimentData(loc_data=pre_local,pre_cleaned=False,is_test_file=False)\n",
    "test_data=TwitterSentimentData(loc_data=pre_local,pre_cleaned=False,is_test_file=True)"
   ]
  },
  {
   "cell_type": "code",
   "execution_count": 4,
   "metadata": {},
   "outputs": [],
   "source": [
    "# Clean Data\n",
    "complete_data=TwitterAddTextData(train_data,1,1,1,1,1,1,1)\n",
    "complete_data.add_text_features()\n",
    "cleaned=TwitterDataCleaning(complete_data)\n",
    "sentiment_data=SentimentAnalysis(cleaned)"
   ]
  },
  {
   "cell_type": "code",
   "execution_count": 5,
   "metadata": {
    "scrolled": true
   },
   "outputs": [
    {
     "data": {
      "text/html": [
       "<div>\n",
       "<style scoped>\n",
       "    .dataframe tbody tr th:only-of-type {\n",
       "        vertical-align: middle;\n",
       "    }\n",
       "\n",
       "    .dataframe tbody tr th {\n",
       "        vertical-align: top;\n",
       "    }\n",
       "\n",
       "    .dataframe thead th {\n",
       "        text-align: right;\n",
       "    }\n",
       "</style>\n",
       "<table border=\"1\" class=\"dataframe\">\n",
       "  <thead>\n",
       "    <tr style=\"text-align: right;\">\n",
       "      <th></th>\n",
       "      <th>3gram</th>\n",
       "      <th>pos_sent</th>\n",
       "      <th>neg_sent</th>\n",
       "      <th>total</th>\n",
       "      <th>polarity</th>\n",
       "    </tr>\n",
       "  </thead>\n",
       "  <tbody>\n",
       "    <tr>\n",
       "      <th>746003</th>\n",
       "      <td>((, hardcover, the)</td>\n",
       "      <td>0</td>\n",
       "      <td>116</td>\n",
       "      <td>116</td>\n",
       "      <td>0.00000</td>\n",
       "    </tr>\n",
       "    <tr>\n",
       "      <th>748268</th>\n",
       "      <td>(,, -, ounce)</td>\n",
       "      <td>0</td>\n",
       "      <td>371</td>\n",
       "      <td>371</td>\n",
       "      <td>0.00000</td>\n",
       "    </tr>\n",
       "    <tr>\n",
       "      <th>747857</th>\n",
       "      <td>(is, written, in)</td>\n",
       "      <td>0</td>\n",
       "      <td>128</td>\n",
       "      <td>128</td>\n",
       "      <td>0.00000</td>\n",
       "    </tr>\n",
       "    <tr>\n",
       "      <th>746671</th>\n",
       "      <td>(mb, ddr, -)</td>\n",
       "      <td>0</td>\n",
       "      <td>132</td>\n",
       "      <td>132</td>\n",
       "      <td>0.00000</td>\n",
       "    </tr>\n",
       "    <tr>\n",
       "      <th>870812</th>\n",
       "      <td>(reliever, &amp;, anti-depressant)</td>\n",
       "      <td>0</td>\n",
       "      <td>119</td>\n",
       "      <td>119</td>\n",
       "      <td>0.00000</td>\n",
       "    </tr>\n",
       "    <tr>\n",
       "      <th>1063100</th>\n",
       "      <td>(., -&gt;, .)</td>\n",
       "      <td>0</td>\n",
       "      <td>142</td>\n",
       "      <td>142</td>\n",
       "      <td>0.00000</td>\n",
       "    </tr>\n",
       "    <tr>\n",
       "      <th>85378</th>\n",
       "      <td>(i, feel, so)</td>\n",
       "      <td>16</td>\n",
       "      <td>149</td>\n",
       "      <td>165</td>\n",
       "      <td>0.09697</td>\n",
       "    </tr>\n",
       "    <tr>\n",
       "      <th>744637</th>\n",
       "      <td>(brand, gb, ddr)</td>\n",
       "      <td>0</td>\n",
       "      <td>193</td>\n",
       "      <td>193</td>\n",
       "      <td>0.00000</td>\n",
       "    </tr>\n",
       "    <tr>\n",
       "      <th>743160</th>\n",
       "      <td>((, mass, market)</td>\n",
       "      <td>0</td>\n",
       "      <td>240</td>\n",
       "      <td>240</td>\n",
       "      <td>0.00000</td>\n",
       "    </tr>\n",
       "    <tr>\n",
       "      <th>870813</th>\n",
       "      <td>(&amp;, anti-depressant, in)</td>\n",
       "      <td>0</td>\n",
       "      <td>119</td>\n",
       "      <td>119</td>\n",
       "      <td>0.00000</td>\n",
       "    </tr>\n",
       "  </tbody>\n",
       "</table>\n",
       "</div>"
      ],
      "text/plain": [
       "                                  3gram  pos_sent  neg_sent  total  polarity\n",
       "746003              ((, hardcover, the)         0       116    116   0.00000\n",
       "748268                    (,, -, ounce)         0       371    371   0.00000\n",
       "747857                (is, written, in)         0       128    128   0.00000\n",
       "746671                     (mb, ddr, -)         0       132    132   0.00000\n",
       "870812   (reliever, &, anti-depressant)         0       119    119   0.00000\n",
       "1063100                      (., ->, .)         0       142    142   0.00000\n",
       "85378                     (i, feel, so)        16       149    165   0.09697\n",
       "744637                 (brand, gb, ddr)         0       193    193   0.00000\n",
       "743160                ((, mass, market)         0       240    240   0.00000\n",
       "870813         (&, anti-depressant, in)         0       119    119   0.00000"
      ]
     },
     "execution_count": 5,
     "metadata": {},
     "output_type": "execute_result"
    }
   ],
   "source": [
    "# Analysis Data\n",
    "sentiment_data.polar_df_3grams[(sentiment_data.polar_df_3grams.polarity<0.1)\n",
    "                               & (sentiment_data.polar_df_3grams.total>100 )].sample(10)"
   ]
  },
  {
   "cell_type": "code",
   "execution_count": 6,
   "metadata": {},
   "outputs": [
    {
     "name": "stderr",
     "output_type": "stream",
     "text": [
      "2017-12-11 02:53:09,866 : INFO : loading projection weights from /datastore/complexnet/jlevyabi/network_representation/data_files/w2v_files/word2vec_twitter_model/word2vec_twitter_model.bin\n",
      "2017-12-11 02:59:04,396 : INFO : loaded (3039345, 400) matrix from /datastore/complexnet/jlevyabi/network_representation/data_files/w2v_files/word2vec_twitter_model/word2vec_twitter_model.bin\n"
     ]
    }
   ],
   "source": [
    "full_data=Tweets_w2v_Features(pre_filled_feats=cleaned.info,built_w2v=pre_remote+\"word2vec_twitter_model.bin\")"
   ]
  },
  {
   "cell_type": "code",
   "execution_count": 7,
   "metadata": {},
   "outputs": [
    {
     "name": "stdout",
     "output_type": "stream",
     "text": [
      "Nb words in vocabulary.... 38365\n",
      "Computing similarity matrix .....\n"
     ]
    },
    {
     "name": "stderr",
     "output_type": "stream",
     "text": [
      "100%|██████████| 35946/35946 [00:02<00:00, 15975.29it/s]\n"
     ]
    },
    {
     "name": "stdout",
     "output_type": "stream",
     "text": [
      "Spectral Clustering ....\n",
      "SC labeling .... \n"
     ]
    }
   ],
   "source": [
    "full_data.sp_features(min_times=1)"
   ]
  },
  {
   "cell_type": "code",
   "execution_count": 8,
   "metadata": {},
   "outputs": [],
   "source": [
    "full_data.nlm_features()"
   ]
  },
  {
   "cell_type": "code",
   "execution_count": 9,
   "metadata": {},
   "outputs": [],
   "source": [
    "def get_embedding(embed_name,df):\n",
    "    dim_total=len((df.head(1)[embed_name][0]))\n",
    "    return np.array(np.vstack([sample[0]\n",
    "                      for it,sample in (df[[embed_name]].iterrows())]))\n",
    "\n",
    "w2v_fts=get_embedding(\"w2v\",full_data.info.data[full_data.info.data['w2v'].isnull()== False])\n",
    "cfd_fts=get_embedding(\"cfd\",full_data.info.data[full_data.info.data['w2v'].isnull()== False])\n",
    "shallow=[\"number_of_uppercases\",\"number_of_exclamations\",\"number_of_questions\",\"number_of_sights\",\n",
    "         \"number_of_hashtags\",\"number_of_mentions\",\"number_of_urls\"]\n",
    "shallow_fts=full_data.info.data[full_data.info.data['w2v'].isnull()== False][shallow]"
   ]
  },
  {
   "cell_type": "code",
   "execution_count": 10,
   "metadata": {},
   "outputs": [],
   "source": [
    "target=full_data.info.data[full_data.info.data['w2v'].isnull()== False][\"pos_sent\"]\n",
    "fts=np.hstack([w2v_fts,cfd_fts,shallow_fts])"
   ]
  },
  {
   "cell_type": "code",
   "execution_count": 15,
   "metadata": {},
   "outputs": [],
   "source": [
    "all_but_text=full_data.info.data.drop(\"text\",axis=1)\n",
    "import pickle\n",
    "pickle.dump(all_but_text,open(\"/home/jlevyabi/seacabo/fempl_big_sim/sent_class/checkpt_data/dic_all.p\",\"wb\"))\n",
    "\n",
    "#all_but_text=pickle.load(open(\"/home/jlevyabi/seacabo/fempl_big_sim/sent_class/checkpt_data/dic_all.p\",\"rb\"))\n",
    "\n",
    "w2v_fts=get_embedding(\"w2v\",all_but_text[all_but_text['w2v'].isnull()== False])\n",
    "cfd_fts=get_embedding(\"cfd\",all_but_text[all_but_text['w2v'].isnull()== False])\n",
    "shallow=[\"number_of_uppercases\",\"number_of_exclamations\",\"number_of_questions\",\"number_of_sights\",\n",
    "         \"number_of_hashtags\",\"number_of_mentions\",\"number_of_urls\"]\n",
    "shallow_fts=all_but_text[all_but_text['w2v'].isnull()== False][shallow]\n",
    "\n",
    "target=all_but_text[all_but_text['w2v'].isnull()== False][\"pos_sent\"]\n",
    "fts=np.hstack([w2v_fts,cfd_fts,shallow_fts])"
   ]
  },
  {
   "cell_type": "code",
   "execution_count": 41,
   "metadata": {},
   "outputs": [],
   "source": [
    "from sklearn.model_selection import KFold, train_test_split\n",
    "target_two_cols=np.transpose(np.vstack([target,target]))\n",
    "target_two_cols[target_two_cols[:,0]==-1,0]=0\n",
    "target_two_cols[target_two_cols[:,1]==1,1]=0\n",
    "target_two_cols=np.abs(target_two_cols)\n",
    "X_train, X_test, y_train, y_test=train_test_split(fts,target_two_cols)"
   ]
  },
  {
   "cell_type": "code",
   "execution_count": 18,
   "metadata": {
    "scrolled": false
   },
   "outputs": [
    {
     "name": "stdout",
     "output_type": "stream",
     "text": [
      "             precision    recall  f1-score   support\n",
      "\n",
      "         -1       0.83      0.79      0.81     24738\n",
      "          1       0.80      0.83      0.82     24497\n",
      "\n",
      "avg / total       0.81      0.81      0.81     49235\n",
      "\n"
     ]
    }
   ],
   "source": [
    "from sklearn import linear_model\n",
    "logreg = linear_model.LogisticRegression(C=1e4,verbose=5)\n",
    "logreg.fit(X_train, y_train)\n",
    "pred=logreg.predict(X_test)print(classification_report(y_test, pred))"
   ]
  },
  {
   "cell_type": "raw",
   "metadata": {},
   "source": [
    "XGBoost\n",
    "              precision    recall  f1-score   support\n",
    "\n",
    "         -1       0.81      0.73      0.77     24809\n",
    "          1       0.75      0.83      0.79     24426\n",
    "\n",
    "avg / total       0.78      0.78      0.78     49235"
   ]
  },
  {
   "cell_type": "code",
   "execution_count": null,
   "metadata": {},
   "outputs": [],
   "source": []
  },
  {
   "cell_type": "raw",
   "metadata": {},
   "source": []
  },
  {
   "cell_type": "code",
   "execution_count": null,
   "metadata": {},
   "outputs": [],
   "source": [
    "import numpy as np\n",
    "import os\n",
    "os.environ[\"CUDA_VISIBLE_DEVICES\"]=\"1\"\n",
    "from keras import backend as K\n",
    "from keras.models import Sequential\n",
    "from keras.layers import Dense, Dropout, Activation\n",
    "from keras.callbacks import ModelCheckpoint\n",
    "from keras.optimizers import SGD, RMSprop, Nadam, Adagrad, Adadelta, Adam, Adamax\n",
    "\n",
    "def build_model(input_dim, nb_class):\n",
    "    units=[input_dim//2,input_dim//4,input_dim//4,input_dim//10,input_dim//50]\n",
    "    model = Sequential()\n",
    "    model.add(Dense(input_dim=input_dim, units=units[0], activation='relu'))\n",
    "    model.add(Dropout(0.7))\n",
    "    model.add(Dense(input_dim=units[0], units=units[1], activation='relu'))\n",
    "    model.add(Dropout(0.8))\n",
    "    model.add(Dense(input_dim=units[1], units=units[2], activation='relu'))\n",
    "    model.add(Dropout(0.3))\n",
    "    model.add(Dense(input_dim=units[2], units=units[3], activation='relu'))\n",
    "    model.add(Dropout(0.2))\n",
    "    model.add(Dense(input_dim=units[3], units=units[4], activation='relu'))\n",
    "    model.add(Dropout(0.5))\n",
    "    model.add(Dense(output_dim=nb_class, activation='softmax'))\n",
    "    model.compile(loss='binary_crossentropy', optimizer='adadelta')\n",
    "    return model\n",
    "\n",
    "checkpointer = ModelCheckpoint(filepath='/home/jlevyabi/seacabo/fempl_big_sim/sent_class/checkpt_data/weights.hdf5',\n",
    "                               verbose=1, save_best_only=True)\n",
    "tf_model=build_model(input_dim=X_train.shape[1],nb_class=2)\n",
    "tf_model.fit(X_train, y_train, batch_size=1000, epochs=1000, verbose=2)\n",
    "score = tf_model.evaluate(X_test, y_test, batch_size=1000)\n",
    "\n",
    "preds=tf_model.predict(X_test)\n",
    "predis=np.int64(preds>0.5)\n",
    "print(classification_report(y_test[:,0],predis[:,0]))\n",
    "             precision    recall  f1-score   support\n",
    "\n",
    "          0       0.85      0.83      0.84     24800\n",
    "          1       0.83      0.85      0.84     24435\n",
    "\n",
    "avg / total       0.84      0.84      0.84     49235"
   ]
  },
  {
   "cell_type": "code",
   "execution_count": null,
   "metadata": {},
   "outputs": [],
   "source": []
  }
 ],
 "metadata": {
  "kernelspec": {
   "display_name": "Python 3",
   "language": "python",
   "name": "python3"
  },
  "language_info": {
   "codemirror_mode": {
    "name": "ipython",
    "version": 3
   },
   "file_extension": ".py",
   "mimetype": "text/x-python",
   "name": "python",
   "nbconvert_exporter": "python",
   "pygments_lexer": "ipython3",
   "version": "3.6.0"
  }
 },
 "nbformat": 4,
 "nbformat_minor": 2
}
